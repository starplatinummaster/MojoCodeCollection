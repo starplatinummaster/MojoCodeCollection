{
 "cells": [
  {
   "cell_type": "code",
   "execution_count": 3,
   "metadata": {},
   "outputs": [
    {
     "name": "stdout",
     "output_type": "stream",
     "text": [
      "2\n",
      "dog\n",
      "woof\n",
      "3\n",
      "dog\n",
      "woof\n",
      "1\n",
      "Cat\n",
      "meow\n"
     ]
    }
   ],
   "source": [
    "#Struct usage\n",
    "struct Animal:\n",
    "    var age: Int\n",
    "    var species: String\n",
    "    var sound: StringLiteral\n",
    "\n",
    "    fn __init__(inout self, age: Int,species: String, sound: StringLiteral):\n",
    "        self.age = age\n",
    "        self.species = species\n",
    "        self.sound = sound\n",
    "\n",
    "    fn printProps(self):\n",
    "        print(self.age)\n",
    "        print(self.species)\n",
    "        print(self.sound)\n",
    "\n",
    "var dog = Animal(2, \"dog\", \"woof\")\n",
    "var cat = Animal(1, \"Cat\", \"meow\")\n",
    "\n",
    "dog.printProps()\n",
    "dog.age = 3\n",
    "dog.printProps()\n",
    "cat.printProps()\n",
    "\n"
   ]
  },
  {
   "cell_type": "code",
   "execution_count": 4,
   "metadata": {},
   "outputs": [],
   "source": []
  }
 ],
 "metadata": {
  "kernelspec": {
   "display_name": "Mojo",
   "language": "mojo",
   "name": "mojo-jupyter-kernel"
  },
  "language_info": {
   "codemirror_mode": {
    "name": "mojo"
   },
   "file_extension": ".mojo",
   "mimetype": "text/x-mojo",
   "name": "mojo"
  }
 },
 "nbformat": 4,
 "nbformat_minor": 2
}
