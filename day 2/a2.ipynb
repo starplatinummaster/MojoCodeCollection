{
 "cells": [
  {
   "cell_type": "code",
   "execution_count": 17,
   "metadata": {},
   "outputs": [
    {
     "name": "stdout",
     "output_type": "stream",
     "text": [
      "The Answer is = 120\n"
     ]
    }
   ],
   "source": [
    "#Question 1\n",
    "fn fact(num : Int)-> Int:\n",
    "    if (num == 1 or num == 0):\n",
    "        return num\n",
    "    else:\n",
    "        return num * fact(num - 1)\n",
    "\n",
    "var result = fact(5)\n",
    "print(\"The Answer is =\", result)"
   ]
  },
  {
   "cell_type": "code",
   "execution_count": 19,
   "metadata": {},
   "outputs": [
    {
     "name": "stdout",
     "output_type": "stream",
     "text": [
      "error: \u001b[0;1;31m\u001b[1mExpression [18]:10:26: \u001b[0m\u001b[1muse of unknown declaration 'g'\n",
      "\u001b[0m    print(\"Global no :\", g)\n",
      "\u001b[0;1;32m                         ^\n",
      "\u001b[0m\u001b[0merror: \u001b[0;1;31m\u001b[1mExpression [18]:13:9: \u001b[0m\u001b[1muse of unknown declaration 'a'\n",
      "\u001b[0m    a = a * 2\n",
      "\u001b[0;1;32m        ^\n",
      "\u001b[0m\u001b[0m"
     ]
    },
    {
     "name": "stderr",
     "output_type": "stream",
     "text": [
      "expression failed to parse (no further compiler diagnostics)"
     ]
    }
   ],
   "source": []
  },
  {
   "cell_type": "code",
   "execution_count": null,
   "metadata": {},
   "outputs": [],
   "source": []
  },
  {
   "cell_type": "code",
   "execution_count": 18,
   "metadata": {},
   "outputs": [
    {
     "name": "stdout",
     "output_type": "stream",
     "text": [
      "No arguments :\n",
      "result 1 34\n",
      "result 2 15.0\n",
      "result 3 50.0\n",
      "1 argument : \n",
      "result 1 74\n",
      "result 2 55.0\n",
      "result 3 90.0\n",
      "3 argument : \n",
      "result 1 6\n",
      "result 2 2.5\n",
      "result 3 4.0\n"
     ]
    }
   ],
   "source": [
    "#Question 3\n",
    "\n",
    "fn do_operations(a : Int = 10, b : Int = 4, c : Int = 20):\n",
    "    var res1 = a + b + c\n",
    "    var res2 = (c / b) + a\n",
    "    var res3 =a + ((b * c) / 2)\n",
    "\n",
    "    print(\"result 1\", res1)\n",
    "    print(\"result 2\", res2)\n",
    "    print(\"result 3\", res3)\n",
    "\n",
    "\n",
    "print(\"No arguments :\")\n",
    "do_operations()\n",
    "\n",
    "print(\"1 argument : \")\n",
    "do_operations(50)\n",
    "\n",
    "print(\"3 argument : \")\n",
    "do_operations(1, 2, 3)"
   ]
  },
  {
   "cell_type": "code",
   "execution_count": 21,
   "metadata": {},
   "outputs": [
    {
     "name": "stdout",
     "output_type": "stream",
     "text": [
      "Initial value of variables 5 10\n",
      "30\n",
      "Variables in main now 10 20\n",
      "value in borrow function 30 40\n",
      "70\n",
      "value outside borrow function 10 20\n"
     ]
    }
   ],
   "source": [
    "#Question 4\n",
    "def addnuminout(inout x:Int,inout y:Int):\n",
    "    x = 10\n",
    "    y = 20\n",
    "    return x + y\n",
    "a = 5\n",
    "b = 10\n",
    "print(\"Initial value of variables\" , a , b)\n",
    "print(addnuminout(a , b))\n",
    "print(\"Variables in main now\" , a , b)\n",
    "\n",
    "def addnumborrow(borrowed x:Int,borrowed y:Int):\n",
    "    x = 30\n",
    "    y = 40\n",
    "    print(\"value in borrow function\" , x , y)\n",
    "    return x + y\n",
    "print(addnumborrow(a , b))\n",
    "print(\"value outside borrow function\", a , b)\n"
   ]
  },
  {
   "cell_type": "code",
   "execution_count": 23,
   "metadata": {},
   "outputs": [
    {
     "name": "stdout",
     "output_type": "stream",
     "text": [
      "Student details are:\n",
      "Somanshu I\n"
     ]
    }
   ],
   "source": [
    "#Question 5\n",
    "struct student:\n",
    "    var name  : String\n",
    "    var section : String\n",
    "    def __init__(inout self, name : String, section : String):\n",
    "        self.name = name\n",
    "        self.section = section\n",
    "    def printdetails(self):\n",
    "        print(\"Student details are:\")\n",
    "        print(self.name,self.section)\n",
    "\n",
    "var stud=student(\"Somanshu\" , \"I\")\n",
    "stud.printdetails()"
   ]
  },
  {
   "cell_type": "code",
   "execution_count": 26,
   "metadata": {},
   "outputs": [
    {
     "name": "stdout",
     "output_type": "stream",
     "text": [
      "Book1\n",
      "400\n",
      "deleted self Book1\n"
     ]
    }
   ],
   "source": [
    "#Question 6\n",
    "@value\n",
    "struct MyBook:\n",
    "    var name: String\n",
    "    var price: Int\n",
    "\n",
    "    fn __init__(inout self, name: String, price: Int):\n",
    "        self.name = name\n",
    "        self.price = price\n",
    "    fn __del__(owned self):\n",
    "        print(\"deleted self\", self.name)\n",
    "\n",
    "\n",
    "fn Book():\n",
    "    var Book2 = MyBook(\"Book1\", 400)\n",
    "    print(Book2.name)\n",
    "    print(Book2.price)\n",
    "\n",
    "Book()\n"
   ]
  },
  {
   "cell_type": "code",
   "execution_count": 27,
   "metadata": {},
   "outputs": [
    {
     "name": "stdout",
     "output_type": "stream",
     "text": [
      "name not found\n",
      "0\n",
      "book1\n",
      "400\n"
     ]
    }
   ],
   "source": [
    "#Question 7\n",
    "struct MyBook:\n",
    "    var name: String\n",
    "    var price: Int\n",
    "\n",
    "    fn __init__(inout self):\n",
    "        self.name = \"name not found\"\n",
    "        self.price = 0\n",
    "\n",
    "    fn __init__(inout self, name: String, price: Int):\n",
    "        self = MyBook()\n",
    "        self.name = name\n",
    "        self.price = price\n",
    "\n",
    "var book = MyBook()\n",
    "var book2 = MyBook(\"book1\", 400)\n",
    "\n",
    "print(book.name)\n",
    "print(book.price)\n",
    "\n",
    "print(book2.name)\n",
    "print(book2.price)\n"
   ]
  },
  {
   "cell_type": "code",
   "execution_count": 28,
   "metadata": {},
   "outputs": [
    {
     "name": "stdout",
     "output_type": "stream",
     "text": [
      "Book1\n"
     ]
    }
   ],
   "source": [
    "#8\n",
    "struct Book:\n",
    "    var title: String\n",
    "    var author: String\n",
    "    fn __init__(inout self, title: String, author: String):\n",
    "        self.title = title\n",
    "        self.author = author\n",
    "\n",
    "    fn __copyinit__(inout self, existing: Self):\n",
    "        self.title = existing.title\n",
    "        self.author = existing.author\n",
    "\n",
    "var originalBook = Book(\"Book1\", \"Author1\")\n",
    "\n",
    "# using copy constructor\n",
    "var copiedBook = originalBook\n",
    "\n",
    "print(copiedBook.title)"
   ]
  }
 ],
 "metadata": {
  "kernelspec": {
   "display_name": "Mojo",
   "language": "mojo",
   "name": "mojo-jupyter-kernel"
  },
  "language_info": {
   "codemirror_mode": {
    "name": "mojo"
   },
   "file_extension": ".mojo",
   "mimetype": "text/x-mojo",
   "name": "mojo"
  }
 },
 "nbformat": 4,
 "nbformat_minor": 2
}
